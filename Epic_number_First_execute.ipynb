{
 "cells": [
  {
   "cell_type": "code",
   "execution_count": 2,
   "metadata": {},
   "outputs": [],
   "source": [
    "# https://www.youtube.com/watch?v=wQ8BIBpya2k\n",
    "# pip install h5py\n",
    "\n",
    "import tensorflow as tf\n",
    "import h5py\n",
    "import cv2\n",
    "import numpy as np \n",
    "import matplotlib.pyplot as plt\n",
    "\n",
    "num_model = tf.keras.models.load_model('Number_classify-First1570238300.model')\n"
   ]
  },
  {
   "cell_type": "code",
   "execution_count": 3,
   "metadata": {},
   "outputs": [],
   "source": [
    "drawing = False # true if mouse is pressed\n",
    "pt1_x , pt1_y = None , None\n",
    "line_thickness = 16\n",
    "\n",
    "# mouse callback function\n",
    "def line_drawing(event,x,y,flags,param):\n",
    "    global pt1_x,pt1_y,drawing\n",
    "\n",
    "    if event==cv2.EVENT_LBUTTONDOWN:\n",
    "        drawing=True\n",
    "        pt1_x,pt1_y=x,y\n",
    "\n",
    "    elif event==cv2.EVENT_MOUSEMOVE:\n",
    "        if drawing==True:\n",
    "            cv2.line(img,(pt1_x,pt1_y),(x,y),color=(0,0,0),thickness=line_thickness)\n",
    "            pt1_x,pt1_y=x,y\n",
    "    elif event==cv2.EVENT_LBUTTONUP:\n",
    "        drawing=False\n",
    "        cv2.line(img,(pt1_x,pt1_y),(x,y),color=(0,0,0),thickness=line_thickness)        \n",
    "\n",
    "def img_2_array(img):\n",
    "    height = img.shape[0]\n",
    "    width = img.shape[1]\n",
    "\n",
    "    if len(img.shape) == 3:\n",
    "        img = cv2.cvtColor(img,cv2.COLOR_BGR2GRAY)\n",
    "        \n",
    "    array = np.zeros([height, width])\n",
    "#     print(type(array))\n",
    "    \n",
    "    # array[:] = img[:]\n",
    "    for i in range(0, height):\n",
    "        for j in range(0, width):\n",
    "            array[i][j] = img[i][j]\n",
    "            \n",
    "    return array\n",
    "\n",
    "\n",
    "# img = np.zeros((256,256,3), np.uint8)\n",
    "# img[:] = (255,255,255)\n",
    "\n",
    "# ar = img_2_array(img)\n",
    "# print(len(ar))"
   ]
  },
  {
   "cell_type": "code",
   "execution_count": 10,
   "metadata": {},
   "outputs": [
    {
     "data": {
      "image/png": "[encoded data removed]",
      "text/plain": [
       "<Figure size 432x288 with 1 Axes>"
      ]
     },
     "metadata": {
      "needs_background": "light"
     },
     "output_type": "display_data"
    },
    {
     "name": "stdout",
     "output_type": "stream",
     "text": [
      "4\n"
     ]
    },
    {
     "data": {
      "image/png": "[encoded data removed]",
      "text/plain": [
       "<Figure size 432x288 with 1 Axes>"
      ]
     },
     "metadata": {
      "needs_background": "light"
     },
     "output_type": "display_data"
    },
    {
     "name": "stdout",
     "output_type": "stream",
     "text": [
      "2\n"
     ]
    }
   ],
   "source": [
    "\n",
    "        \n",
    "img = np.zeros((256,256,3), np.uint8)\n",
    "img[:] = (255,255,255)\n",
    "cv2.namedWindow('Number draw')\n",
    "cv2.setMouseCallback('Number draw',line_drawing)\n",
    "\n",
    "while(1):\n",
    "    cv2.imshow('Number draw',img)\n",
    "    key_in = cv2.waitKey(1) & 0xFF\n",
    "    if key_in == 27:    # esc\n",
    "        break\n",
    "    elif key_in == 13:    #enter\n",
    "        \n",
    "        plt.cla()\n",
    "    # run the desired code\n",
    "        # change size to 24x24\n",
    "        img_resize = cv2.resize(img, (28, 28), interpolation=cv2.INTER_LINEAR)\n",
    "        img_resize = cv2.cvtColor(img_resize,cv2.COLOR_BGR2GRAY)\n",
    "        \n",
    "\n",
    "        # inver its value black-->0 ; white--> 255\n",
    "        ret, img_resize = cv2.threshold(img_resize,20,255,cv2.THRESH_BINARY_INV)\n",
    "        \n",
    "\n",
    "        img_array = img_2_array(img_resize)\n",
    "#         img_array = tf.keras.utils.normalize(img_array, axis=2)\n",
    "        img_array[:,:] = img_array[:,:]/255\n",
    "\n",
    "        \n",
    "#         print(img_array)\n",
    "        \n",
    "        plt.imshow(img_array)\n",
    "        plt.show()\n",
    "#         print(img_array.shape)\n",
    "        predictions = num_model.predict([[img_array]]) # predictions always a list\n",
    "        print(np.argmax(predictions[0]))\n",
    "        img[:] = (255,255,255)\n",
    "        \n",
    "cv2.destroyAllWindows()"
   ]
  },
  {
   "cell_type": "code",
   "execution_count": null,
   "metadata": {},
   "outputs": [],
   "source": []
  },
  {
   "cell_type": "code",
   "execution_count": null,
   "metadata": {},
   "outputs": [],
   "source": []
  },
  {
   "cell_type": "code",
   "execution_count": null,
   "metadata": {},
   "outputs": [],
   "source": [
    "predictions = num_model.predict([x_test]) #predictions always a list"
   ]
  }
 ],
 "metadata": {
  "kernelspec": {
   "display_name": "tf",
   "language": "python",
   "name": "tf"
  },
  "language_info": {
   "codemirror_mode": {
    "name": "ipython",
    "version": 3
   },
   "file_extension": ".py",
   "mimetype": "text/x-python",
   "name": "python",
   "nbconvert_exporter": "python",
   "pygments_lexer": "ipython3",
   "version": "3.6.9"
  }
 },
 "nbformat": 4,
 "nbformat_minor": 2
}
