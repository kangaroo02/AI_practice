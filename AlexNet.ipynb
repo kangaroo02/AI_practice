{
 "cells": [
  {
   "cell_type": "code",
   "execution_count": 1,
   "metadata": {},
   "outputs": [],
   "source": [
    "#! /usr/bin/env python\n",
    "\n",
    "# pip install d2l\n",
    "# pip install mxnet\n",
    "# video : https://www.youtube.com/watch?v=0Up4L6A97Gw\n",
    "\n",
    "import d2l\n",
    "from mxnet import autograd, gluon, init, nd\n",
    "from mxnet.gluon import data as gdata, nn\n",
    "from mxnet.gluon import loss as gloss\n",
    "import os\n",
    "import sys\n",
    "import time"
   ]
  },
  {
   "cell_type": "code",
   "execution_count": 12,
   "metadata": {},
   "outputs": [],
   "source": [
    "net = nn.Sequential()\n",
    "# Use a larget 11 x 11 window to capture objects. Stride of 4 reduce size.\n",
    "# The number of output channels is much larget than that in LeNet\n",
    "net.add(\n",
    "        nn.Conv2D(96, kernel_size=11, strides=4, activation='relu'),\n",
    "        nn.MaxPool2D(pool_size=3,  strides=2),\n",
    "    \n",
    "        # Make the convolution window smaller, set padding to 2 for consistent height/width\n",
    "        nn.Conv2D(256, kernel_size=(5,5), padding=(2,2), activation='relu'),\n",
    "        nn.MaxPool2D(pool_size=3,  strides=2),\n",
    "    \n",
    "        # Use three successive convolutional layers and a smaller convolution window.\n",
    "        nn.Conv2D(384, kernel_size=3, padding=1, activation='relu'),\n",
    "        nn.Conv2D(384, kernel_size=3, padding=1, activation='relu'),\n",
    "        nn.Conv2D(256, kernel_size=3, padding=1, activation='relu'),\n",
    "        # Reduce dimensionality\n",
    "        nn.MaxPool2D(pool_size=3,  padding=2),\n",
    "        \n",
    "        # Expensive dense layer\n",
    "        nn.Dense(4096, activation=\"relu\"), nn.Dropout(0.5),\n",
    "        nn.Dense(4096, activation=\"relu\"), nn.Dropout(0.5),\n",
    "    \n",
    "        # Output layer. Since we are using Fashion-MNIST, n = 10\n",
    "        nn.Dense(10)\n",
    "       )"
   ]
  },
  {
   "cell_type": "code",
   "execution_count": 13,
   "metadata": {
    "scrolled": true
   },
   "outputs": [
    {
     "name": "stdout",
     "output_type": "stream",
     "text": [
      "conv30 output shape:\t (1, 96, 54, 54)\n",
      "pool18 output shape:\t (1, 96, 26, 26)\n",
      "conv31 output shape:\t (1, 256, 26, 26)\n",
      "pool19 output shape:\t (1, 256, 12, 12)\n",
      "conv32 output shape:\t (1, 384, 12, 12)\n",
      "conv33 output shape:\t (1, 384, 12, 12)\n",
      "conv34 output shape:\t (1, 256, 12, 12)\n",
      "pool20 output shape:\t (1, 256, 5, 5)\n",
      "dense18 output shape:\t (1, 4096)\n",
      "dropout12 output shape:\t (1, 4096)\n",
      "dense19 output shape:\t (1, 4096)\n",
      "dropout13 output shape:\t (1, 4096)\n",
      "dense20 output shape:\t (1, 10)\n"
     ]
    }
   ],
   "source": [
    "X = nd.random.uniform(shape=(1, 1, 224, 224))\n",
    "net.initialize()\n",
    "for layer in net:\n",
    "    X = layer(X)\n",
    "    print(layer.name, 'output shape:\\t', X.shape)"
   ]
  },
  {
   "cell_type": "code",
   "execution_count": null,
   "metadata": {},
   "outputs": [],
   "source": []
  }
 ],
 "metadata": {
  "kernelspec": {
   "display_name": "Python [conda env:tf] *",
   "language": "python",
   "name": "conda-env-tf-py"
  },
  "language_info": {
   "codemirror_mode": {
    "name": "ipython",
    "version": 3
   },
   "file_extension": ".py",
   "mimetype": "text/x-python",
   "name": "python",
   "nbconvert_exporter": "python",
   "pygments_lexer": "ipython3",
   "version": "3.6.9"
  }
 },
 "nbformat": 4,
 "nbformat_minor": 2
}
