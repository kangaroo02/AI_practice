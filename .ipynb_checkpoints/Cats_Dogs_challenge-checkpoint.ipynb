{
 "cells": [
  {
   "cell_type": "code",
   "execution_count": 4,
   "metadata": {},
   "outputs": [
    {
     "name": "stdout",
     "output_type": "stream",
     "text": [
      "(50, 50, 1)\n",
      "Train on 22451 samples, validate on 2495 samples\n",
      "Epoch 1/10\n",
      "22451/22451 [==============================] - 43s 2ms/step - loss: 0.6090 - acc: 0.6596 - val_loss: 0.5607 - val_acc: 0.7010\n",
      "Epoch 2/10\n",
      "22451/22451 [==============================] - 43s 2ms/step - loss: 0.5068 - acc: 0.7532 - val_loss: 0.5486 - val_acc: 0.7226\n",
      "Epoch 3/10\n",
      "22451/22451 [==============================] - 42s 2ms/step - loss: 0.4663 - acc: 0.7783 - val_loss: 0.4898 - val_acc: 0.7623\n",
      "Epoch 4/10\n",
      "22451/22451 [==============================] - 40s 2ms/step - loss: 0.4252 - acc: 0.8009 - val_loss: 0.4663 - val_acc: 0.7840\n",
      "Epoch 5/10\n",
      "22451/22451 [==============================] - 41s 2ms/step - loss: 0.3884 - acc: 0.8235 - val_loss: 0.4922 - val_acc: 0.7655\n",
      "Epoch 6/10\n",
      "22451/22451 [==============================] - 39s 2ms/step - loss: 0.3557 - acc: 0.8396 - val_loss: 0.4543 - val_acc: 0.7948\n",
      "Epoch 7/10\n",
      "22451/22451 [==============================] - 38s 2ms/step - loss: 0.3163 - acc: 0.8614 - val_loss: 0.4566 - val_acc: 0.7972\n",
      "Epoch 8/10\n",
      "22451/22451 [==============================] - 40s 2ms/step - loss: 0.2740 - acc: 0.8825 - val_loss: 0.4785 - val_acc: 0.7992\n",
      "Epoch 9/10\n",
      "22451/22451 [==============================] - 42s 2ms/step - loss: 0.2278 - acc: 0.9051 - val_loss: 0.5142 - val_acc: 0.7944\n",
      "Epoch 10/10\n",
      "22451/22451 [==============================] - 42s 2ms/step - loss: 0.1903 - acc: 0.9214 - val_loss: 0.5446 - val_acc: 0.8020\n"
     ]
    },
    {
     "data": {
      "text/plain": [
       "<tensorflow.python.keras.callbacks.History at 0x7f14abe273c8>"
      ]
     },
     "execution_count": 4,
     "metadata": {},
     "output_type": "execute_result"
    }
   ],
   "source": [
    "import tensorflow as tf\n",
    "from tensorflow.keras.models import Sequential\n",
    "from tensorflow.keras.layers import Dense, Dropout, Activation, Flatten\n",
    "from tensorflow.keras.layers import Conv2D, MaxPooling2D\n",
    "from tensorflow.keras.callbacks import TensorBoard\n",
    "import pickle\n",
    "import time\n",
    "\n",
    "NAME = \"Cat-vs-dog-cnn-64x2-{}\".format(int(time.time()))\n",
    "\n",
    "tensorboard = TensorBoard(log_dir = 'logs/{}'.format(NAME))\n",
    "\n",
    "# gpu_options = tf.GPUOptions(per_process_gpu_memory_fraction = 1)\n",
    "# sess = tf.Session(config=tf.ConfigProto(gpu_options=gpu_options))\n",
    "\n",
    "X = pickle.load(open(\"X.pickle\", \"rb\"))\n",
    "y = pickle.load(open(\"y.pickle\", \"rb\"))\n",
    "\n",
    "# print(len(X))\n",
    "# print(len(X[1]))\n",
    "print(X.shape[1:])\n",
    "\n",
    "X = X/255.0\n",
    "\n",
    "model = Sequential()\n",
    "model.add(Conv2D(64, (3,3), input_shape = X.shape[1:]))\n",
    "model.add(Activation(\"relu\"))\n",
    "model.add(MaxPooling2D(pool_size=(2,2)))\n",
    "\n",
    "model.add(Conv2D(64, (3,3)))\n",
    "model.add(Activation(\"relu\"))\n",
    "model.add(MaxPooling2D(pool_size=(2,2)))\n",
    "\n",
    "model.add(Flatten())\n",
    "model.add(Dense(64))\n",
    "model.add(Activation(\"relu\"))\n",
    "\n",
    "model.add(Dense(1))\n",
    "model.add(Activation('sigmoid'))\n",
    "\n",
    "model.compile(loss=\"binary_crossentropy\",\n",
    "             optimizer=\"adam\",\n",
    "             metrics=['accuracy'])\n",
    "\n",
    "model.fit(X, y, batch_size=32, epochs=10, validation_split=0.1, callbacks=[tensorboard])\n"
   ]
  },
  {
   "cell_type": "code",
   "execution_count": null,
   "metadata": {},
   "outputs": [],
   "source": []
  }
 ],
 "metadata": {
  "kernelspec": {
   "display_name": "Python [conda env:tf] *",
   "language": "python",
   "name": "conda-env-tf-py"
  },
  "language_info": {
   "codemirror_mode": {
    "name": "ipython",
    "version": 3
   },
   "file_extension": ".py",
   "mimetype": "text/x-python",
   "name": "python",
   "nbconvert_exporter": "python",
   "pygments_lexer": "ipython3",
   "version": "3.6.9"
  }
 },
 "nbformat": 4,
 "nbformat_minor": 2
}
